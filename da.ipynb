{
  "cells": [
    {
      "cell_type": "markdown",
      "source": [
        "# Domain adaptation on classification task with AlexNet and PACS dataset"
      ],
      "metadata": {
        "id": "0K9H8Nk-N_Tf"
      },
      "id": "0K9H8Nk-N_Tf"
    },
    {
      "cell_type": "code",
      "source": [
        "# Install additional libraries\n",
        "!pip install torchmetrics"
      ],
      "metadata": {
        "id": "5q3A_omGNpCf",
        "outputId": "cfae5a7c-cb46-4cea-b2c5-8f95c03025f6",
        "colab": {
          "base_uri": "https://localhost:8080/"
        }
      },
      "id": "5q3A_omGNpCf",
      "execution_count": 1,
      "outputs": [
        {
          "output_type": "stream",
          "name": "stdout",
          "text": [
            "Collecting torchmetrics\n",
            "  Downloading torchmetrics-1.6.1-py3-none-any.whl.metadata (21 kB)\n",
            "Requirement already satisfied: numpy>1.20.0 in /usr/local/lib/python3.10/dist-packages (from torchmetrics) (1.26.4)\n",
            "Requirement already satisfied: packaging>17.1 in /usr/local/lib/python3.10/dist-packages (from torchmetrics) (24.2)\n",
            "Requirement already satisfied: torch>=2.0.0 in /usr/local/lib/python3.10/dist-packages (from torchmetrics) (2.5.1+cu121)\n",
            "Collecting lightning-utilities>=0.8.0 (from torchmetrics)\n",
            "  Downloading lightning_utilities-0.11.9-py3-none-any.whl.metadata (5.2 kB)\n",
            "Requirement already satisfied: setuptools in /usr/local/lib/python3.10/dist-packages (from lightning-utilities>=0.8.0->torchmetrics) (75.1.0)\n",
            "Requirement already satisfied: typing-extensions in /usr/local/lib/python3.10/dist-packages (from lightning-utilities>=0.8.0->torchmetrics) (4.12.2)\n",
            "Requirement already satisfied: filelock in /usr/local/lib/python3.10/dist-packages (from torch>=2.0.0->torchmetrics) (3.16.1)\n",
            "Requirement already satisfied: networkx in /usr/local/lib/python3.10/dist-packages (from torch>=2.0.0->torchmetrics) (3.4.2)\n",
            "Requirement already satisfied: jinja2 in /usr/local/lib/python3.10/dist-packages (from torch>=2.0.0->torchmetrics) (3.1.4)\n",
            "Requirement already satisfied: fsspec in /usr/local/lib/python3.10/dist-packages (from torch>=2.0.0->torchmetrics) (2024.10.0)\n",
            "Requirement already satisfied: sympy==1.13.1 in /usr/local/lib/python3.10/dist-packages (from torch>=2.0.0->torchmetrics) (1.13.1)\n",
            "Requirement already satisfied: mpmath<1.4,>=1.1.0 in /usr/local/lib/python3.10/dist-packages (from sympy==1.13.1->torch>=2.0.0->torchmetrics) (1.3.0)\n",
            "Requirement already satisfied: MarkupSafe>=2.0 in /usr/local/lib/python3.10/dist-packages (from jinja2->torch>=2.0.0->torchmetrics) (3.0.2)\n",
            "Downloading torchmetrics-1.6.1-py3-none-any.whl (927 kB)\n",
            "\u001b[2K   \u001b[90m━━━━━━━━━━━━━━━━━━━━━━━━━━━━━━━━━━━━━━━━\u001b[0m \u001b[32m927.3/927.3 kB\u001b[0m \u001b[31m22.7 MB/s\u001b[0m eta \u001b[36m0:00:00\u001b[0m\n",
            "\u001b[?25hDownloading lightning_utilities-0.11.9-py3-none-any.whl (28 kB)\n",
            "Installing collected packages: lightning-utilities, torchmetrics\n",
            "Successfully installed lightning-utilities-0.11.9 torchmetrics-1.6.1\n"
          ]
        }
      ]
    },
    {
      "cell_type": "code",
      "source": [
        "!git clone https://github.com/SimoneBorella/domain-adaptation.git\n",
        "\n",
        "# !cp -r ./domain-adaptation/models .\n",
        "\n",
        "!rm -r ./domain-adaptation"
      ],
      "metadata": {
        "id": "GrQxrFD9QBIi"
      },
      "id": "GrQxrFD9QBIi",
      "execution_count": null,
      "outputs": []
    },
    {
      "cell_type": "code",
      "execution_count": 3,
      "id": "e686f1d3-211d-4de8-9e34-520059da376f",
      "metadata": {
        "id": "e686f1d3-211d-4de8-9e34-520059da376f",
        "outputId": "505730a2-b596-4ce9-d3d5-f0f5e083ec02",
        "colab": {
          "base_uri": "https://localhost:8080/"
        }
      },
      "outputs": [
        {
          "output_type": "stream",
          "name": "stdout",
          "text": [
            "Cloning into 'Homework3-PACS'...\n",
            "remote: Enumerating objects: 10032, done.\u001b[K\n",
            "remote: Total 10032 (delta 0), reused 0 (delta 0), pack-reused 10032 (from 1)\u001b[K\n",
            "Receiving objects: 100% (10032/10032), 174.13 MiB | 34.31 MiB/s, done.\n",
            "Resolving deltas: 100% (1/1), done.\n",
            "Updating files: 100% (9993/9993), done.\n",
            "mv: cannot move 'Homework3-PACS/PACS' to 'data/PACS': Directory not empty\n",
            "Cloning into 'DANN_Template'...\n",
            "remote: Enumerating objects: 23, done.\u001b[K\n",
            "remote: Total 23 (delta 0), reused 0 (delta 0), pack-reused 23 (from 1)\u001b[K\n",
            "Receiving objects: 100% (23/23), 33.86 KiB | 4.23 MiB/s, done.\n",
            "Resolving deltas: 100% (5/5), done.\n"
          ]
        }
      ],
      "source": [
        "# Download PACS Dataset Images\n",
        "!git clone https://github.com/MachineLearning2020/Homework3-PACS/\n",
        "!mkdir -p data\n",
        "!mv Homework3-PACS/PACS data/\n",
        "!rm -r Homework3-PACS/\n",
        "\n",
        "# Download PACS Dataset Labels\n",
        "!git clone https://github.com/silvia1993/DANN_Template/\n",
        "!mv DANN_Template/txt_lists/art_painting.txt data/PACS/\n",
        "!mv DANN_Template/txt_lists/cartoon.txt data/PACS/\n",
        "!mv DANN_Template/txt_lists/photo.txt data/PACS/\n",
        "!mv DANN_Template/txt_lists/sketch.txt data/PACS/\n",
        "!rm -r DANN_Template/\n",
        "\n",
        "!rm -r sample_data"
      ]
    },
    {
      "cell_type": "code",
      "execution_count": 4,
      "id": "46c3fbc9-679c-46a3-ae6a-d2ce96d21d43",
      "metadata": {
        "id": "46c3fbc9-679c-46a3-ae6a-d2ce96d21d43"
      },
      "outputs": [],
      "source": [
        "import torch\n",
        "import torch.nn as nn\n",
        "from torch.utils.data import Dataset\n",
        "from PIL import Image\n",
        "\n",
        "from torch.utils.data import DataLoader\n",
        "import torchvision.transforms as T\n",
        "from torchvision.models import AlexNet_Weights\n",
        "import torch.nn.functional as F\n",
        "from torchmetrics import Accuracy\n",
        "from tqdm import tqdm"
      ]
    },
    {
      "cell_type": "markdown",
      "source": [
        "## Parameters"
      ],
      "metadata": {
        "id": "HUPEvN-ROSOw"
      },
      "id": "HUPEvN-ROSOw"
    },
    {
      "cell_type": "code",
      "source": [
        "DEVICE = 'cuda' if torch.cuda.is_available() else 'cpu'\n",
        "NUM_CLASSES = 7\n",
        "BATCH_SIZE = 256\n",
        "LR = 1e-3            # The initial Learning Rate\n",
        "MOMENTUM = 0.9       # Hyperparameter for SGD, keep this at 0.9 when using SGD\n",
        "WEIGHT_DECAY = 5e-5  # Regularization, you can keep this at the default\n",
        "NUM_EPOCHS = 30      # Total number of training epochs (iterations over dataset)\n",
        "STEP_SIZE = 20       # How many epochs before decreasing learning rate (if using a step-down policy)\n",
        "GAMMA = 0.1          # Multiplicative factor for learning rate step-down"
      ],
      "metadata": {
        "id": "m_igi2pfOTvD"
      },
      "id": "m_igi2pfOTvD",
      "execution_count": null,
      "outputs": []
    },
    {
      "cell_type": "code",
      "execution_count": null,
      "id": "df154e98-5188-40be-8311-832f86e14788",
      "metadata": {
        "id": "df154e98-5188-40be-8311-832f86e14788"
      },
      "outputs": [],
      "source": [
        "# Define the Dataset class\n",
        "class PACSDataset(Dataset):\n",
        "    def __init__(self, domain, transform):\n",
        "        assert domain in ['photo', 'art_painting', 'cartoon', 'sketch']\n",
        "        self.examples = [] # (img_path, class_label)\n",
        "        self.T = transform\n",
        "\n",
        "        with open(f'PACS/{domain}.txt', 'r') as f:\n",
        "            lines = f.readlines()\n",
        "\n",
        "        for line in lines:\n",
        "            line = line.strip().split()\n",
        "            img_path = 'PACS/'+line[0]\n",
        "            class_label = int(line[1])\n",
        "            self.examples.append((img_path, class_label))\n",
        "\n",
        "    def __len__(self):\n",
        "        return len(self.examples)\n",
        "\n",
        "    def __getitem__(self, index):\n",
        "        img_path, class_label = self.examples[index]\n",
        "        img = Image.open(img_path).convert('RGB')\n",
        "        img = self.T(img)\n",
        "        return img, class_label"
      ]
    },
    {
      "cell_type": "code",
      "execution_count": null,
      "id": "a256b262-8785-4d6f-8d99-b8520d50fe60",
      "metadata": {
        "id": "a256b262-8785-4d6f-8d99-b8520d50fe60"
      },
      "outputs": [],
      "source": [
        "# Define AlexNet architecture class\n",
        "class AlexNet(nn.Module):\n",
        "    def __init__(self, num_classes=1000, num_domains=2):\n",
        "        super(AlexNet, self).__init__()\n",
        "        self.features = nn.Sequential(\n",
        "            nn.Conv2d(3, 64, kernel_size=11, stride=4, padding=2),\n",
        "            nn.ReLU(inplace=True),\n",
        "            nn.MaxPool2d(kernel_size=3, stride=2),\n",
        "            nn.Conv2d(64, 192, kernel_size=5, padding=2),\n",
        "            nn.ReLU(inplace=True),\n",
        "            nn.MaxPool2d(kernel_size=3, stride=2),\n",
        "            nn.Conv2d(192, 384, kernel_size=3, padding=1),\n",
        "            nn.ReLU(inplace=True),\n",
        "            nn.Conv2d(384, 256, kernel_size=3, padding=1),\n",
        "            nn.ReLU(inplace=True),\n",
        "            nn.Conv2d(256, 256, kernel_size=3, padding=1),\n",
        "            nn.ReLU(inplace=True),\n",
        "            nn.MaxPool2d(kernel_size=3, stride=2)\n",
        "        )\n",
        "        # Category classifier\n",
        "        self.classifier = nn.Sequential(\n",
        "            nn.Dropout(),\n",
        "            nn.Linear(256 * 6 * 6, 4096),\n",
        "            nn.ReLU(inplace=True),\n",
        "            nn.Dropout(),\n",
        "            nn.Linear(4096, 4096),\n",
        "            nn.ReLU(inplace=True),\n",
        "            nn.Linear(4096, num_classes)\n",
        "        )\n",
        "        # Domain classifier\n",
        "        self.domain_classifier = nn.Sequential(\n",
        "            nn.Dropout(),\n",
        "            nn.Linear(256 * 6 * 6, 4096),\n",
        "            nn.ReLU(inplace=True),\n",
        "            nn.Dropout(),\n",
        "            nn.Linear(4096, 4096),\n",
        "            nn.ReLU(inplace=True),\n",
        "            nn.Linear(4096, num_domains)\n",
        "        )\n",
        "\n",
        "    def forward(self, x):\n",
        "        features = self.features(x)\n",
        "        features = features.view(features.size(0), -1)\n",
        "        class_outputs = self.classifier(features)\n",
        "        domain_outputs = self.domain_classifier(features)\n",
        "        return class_outputs, domain_outputs"
      ]
    },
    {
      "cell_type": "code",
      "execution_count": null,
      "id": "78c59678-ac85-40f7-9ad2-71d1b9f50bc5",
      "metadata": {
        "id": "78c59678-ac85-40f7-9ad2-71d1b9f50bc5"
      },
      "outputs": [],
      "source": [
        "#### DATA SETUP\n",
        "# Define the transforms to use on images\n",
        "dataset_transform = T.Compose([\n",
        "    T.Resize(256),\n",
        "    T.CenterCrop(224),\n",
        "    T.ToTensor(),\n",
        "    T.Normalize([0.485, 0.456, 0.406], std=[0.229, 0.224, 0.225])\n",
        "])\n",
        "\n",
        "# Define the Dataset object for training & testing\n",
        "train_dataset = PACSDataset(domain='cartoon', transform=dataset_transform)\n",
        "test_dataset = PACSDataset(domain='sketch', transform=dataset_transform)\n",
        "\n",
        "# Define the DataLoaders\n",
        "train_loader = DataLoader(train_dataset, batch_size=BATCH_SIZE, shuffle=True, num_workers=4, drop_last=True)\n",
        "test_loader = DataLoader(test_dataset, batch_size=BATCH_SIZE, num_workers=4)\n",
        "\n",
        "\n",
        "#### ARCHITECTURE SETUP\n",
        "# Create the Network Architecture object\n",
        "model = AlexNet()\n",
        "# Load pre-trained weights\n",
        "model.load_state_dict(AlexNet_Weights.IMAGENET1K_V1.get_state_dict(progress=True), strict=False)\n",
        "# Overwrite the final classifier layer as we only have 7 classes in PACS\n",
        "model.classifier[-1] = nn.Linear(4096, NUM_CLASSES)\n",
        "\n",
        "\n",
        "#### TRAINING SETUP\n",
        "# Move model to device before passing it to the optimizer\n",
        "model = model.to(DEVICE)\n",
        "\n",
        "# Create Optimizer & Scheduler objects\n",
        "optimizer = torch.optim.SGD(model.parameters(), lr=LR, momentum=MOMENTUM, weight_decay=WEIGHT_DECAY)\n",
        "scheduler = torch.optim.lr_scheduler.StepLR(optimizer, step_size=STEP_SIZE, gamma=GAMMA)\n",
        "\n",
        "\n",
        "#### TRAINING LOOP\n",
        "model.train()\n",
        "if False:\n",
        "    # Baseline\n",
        "    for epoch in range(NUM_EPOCHS):\n",
        "        epoch_loss = [0.0, 0]\n",
        "        for x, y in tqdm(train_loader):\n",
        "            x, y = x.to(DEVICE), y.to(DEVICE)\n",
        "            # x --> [B x C x H x W]\n",
        "\n",
        "            # Category Loss\n",
        "            cls_o, _ = model(x)\n",
        "            loss = F.cross_entropy(cls_o, y)\n",
        "\n",
        "            optimizer.zero_grad()\n",
        "            loss.backward()\n",
        "            optimizer.step()\n",
        "\n",
        "            epoch_loss[0] += loss.item()\n",
        "            epoch_loss[1] += x.size(0)\n",
        "\n",
        "        scheduler.step()\n",
        "        print(f'[EPOCH {epoch+1}] Avg. Loss: {epoch_loss[0] / epoch_loss[1]}')\n",
        "else:\n",
        "    # DANN\n",
        "    LAMBDA = 1e-4\n",
        "    for epoch in range(NUM_EPOCHS):\n",
        "        epoch_loss = [0.0, 0]\n",
        "        for batch_idx, ((src_x, src_y), (trg_x, _)) in tqdm(enumerate(zip(train_loader, test_loader))):\n",
        "            src_x, src_y = src_x.to(DEVICE), src_y.to(DEVICE)\n",
        "            trg_x = trg_x.to(DEVICE)\n",
        "\n",
        "            src_cls_o, src_dom_o = model(src_x)\n",
        "            _, trg_dom_o = model(trg_x)\n",
        "\n",
        "            if batch_idx % 2 == 0:\n",
        "                # Classification Loss\n",
        "                loss = F.cross_entropy(src_cls_o, src_y)\n",
        "\n",
        "            else:\n",
        "                # Classification Loss\n",
        "                cls_loss = F.cross_entropy(src_cls_o, src_y)\n",
        "\n",
        "                # Source Domain Adversarial Loss --> src_dom_label = 0\n",
        "                src_dom_label = torch.zeros(src_dom_o.size(0)).long().to(DEVICE)\n",
        "                src_dom_loss = F.cross_entropy(src_dom_o, src_dom_label)\n",
        "\n",
        "                # Target Domain Adversarial Loss --> trg_dom_label = 1\n",
        "                trg_dom_label = torch.ones(trg_dom_o.size(0)).long().to(DEVICE)\n",
        "                trg_dom_loss = F.cross_entropy(trg_dom_o, trg_dom_label)\n",
        "\n",
        "                # Final Loss\n",
        "                loss = cls_loss - LAMBDA * (src_dom_loss + trg_dom_loss)\n",
        "\n",
        "            optimizer.zero_grad()\n",
        "            loss.backward()\n",
        "            optimizer.step()\n",
        "\n",
        "            epoch_loss[0] += loss.item()\n",
        "            epoch_loss[1] += src_x.size(0)\n",
        "\n",
        "        scheduler.step()\n",
        "        print(f'[EPOCH {epoch+1}] Avg. Loss: {epoch_loss[0] / epoch_loss[1]}')\n",
        "# pip install wandb\n",
        "\n",
        "#### TEST LOOP\n",
        "model.eval()\n",
        "\n",
        "meter = Accuracy(task='multiclass', num_classes=NUM_CLASSES).to(DEVICE)\n",
        "\n",
        "with torch.no_grad():\n",
        "    for x, y in tqdm(test_loader):\n",
        "        x, y = x.to(DEVICE), y.to(DEVICE)\n",
        "        cls_o, _ = model(x)\n",
        "        meter.update(cls_o, y)\n",
        "accuracy = meter.compute()\n",
        "\n",
        "print(f'\\nAccuracy on the target domain: {100 * accuracy:.2f}%')"
      ]
    }
  ],
  "metadata": {
    "kernelspec": {
      "display_name": "env",
      "language": "python",
      "name": "python3"
    },
    "language_info": {
      "codemirror_mode": {
        "name": "ipython",
        "version": 3
      },
      "file_extension": ".py",
      "mimetype": "text/x-python",
      "name": "python",
      "nbconvert_exporter": "python",
      "pygments_lexer": "ipython3",
      "version": "3.10.13"
    },
    "colab": {
      "provenance": []
    }
  },
  "nbformat": 4,
  "nbformat_minor": 5
}